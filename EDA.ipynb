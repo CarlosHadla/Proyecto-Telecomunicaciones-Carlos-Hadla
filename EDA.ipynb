{
 "cells": [
  {
   "cell_type": "markdown",
   "metadata": {},
   "source": [
    "# Importando librerias"
   ]
  },
  {
   "cell_type": "code",
   "execution_count": 5,
   "metadata": {},
   "outputs": [],
   "source": [
    "import pandas as pd\n",
    "import numpy as np"
   ]
  },
  {
   "cell_type": "markdown",
   "metadata": {},
   "source": [
    "#### Warnings"
   ]
  },
  {
   "cell_type": "code",
   "execution_count": 6,
   "metadata": {},
   "outputs": [],
   "source": [
    "import warnings\n",
    "warnings.filterwarnings('ignore')"
   ]
  },
  {
   "cell_type": "code",
   "execution_count": 7,
   "metadata": {},
   "outputs": [],
   "source": [
    "#nacional\n",
    "na_accesos_cada_100_hogares_fijo=pd.read_csv('./csv_corregidos/na_accesos_cada_100_hogares_fijo.csv')\n",
    "na_accesos_b_ancha_angosta_fijo= pd.read_csv('./csv_corregidos/na_accesos_b_ancha_angosta_fijo.csv')\n",
    "na_accesos_tipo_tecnologia_fijo= pd.read_csv('./csv_corregidos/na_accesos_tipo_tecnologia_fijo.csv')\n",
    "na_velocidad_media_bajada= pd.read_csv('./csv_corregidos/na_velocidad_media_bajada.csv')\n",
    "na_dis_accesos_rango_vel_bajada= pd.read_csv('./csv_corregidos/na_dis_accesos_rango_vel_bajada.csv')\n",
    "na_ingresos_operadores_fijo= pd.read_csv('./csv_corregidos/na_ingresos_operadores_fijo.csv')\n",
    "#provincial\n",
    "prov_accesos_cada_100_hogares_fijo=pd.read_csv('./csv_corregidos/prov_accesos_cada_100_hogares_fijo.csv')\n",
    "prov_accesos_b_ancha_angosta_fijo = pd.read_csv('./csv_corregidos/prov_accesos_b_ancha_angosta_fijo.csv')\n",
    "prov_accesos_tipo_tecnologia_fijo = pd.read_csv('./csv_corregidos/prov_accesos_tipo_tecnologia_fijo.csv')\n",
    "prov_velocidad_media_bajada = pd.read_csv('./csv_corregidos/prov_velocidad_media_bajada.csv')\n",
    "prov_dis_accesos_rango_vel_bajada = pd.read_csv('./csv_corregidos/prov_dis_accesos_rango_vel_bajada.csv')"
   ]
  },
  {
   "cell_type": "markdown",
   "metadata": {},
   "source": [
    "## De lo visto en el ETL:"
   ]
  },
  {
   "cell_type": "markdown",
   "metadata": {},
   "source": [
    "#### Nacional\n",
    "-_Los df a nivel nacional cuentan de 36 observaciones. Sin valores faltantes observables._\n",
    "\n",
    "-_Se puede ver que los datos estan agrupados por en 4 trimestres por año y van desde el 2014 al 2018._"
   ]
  },
  {
   "cell_type": "markdown",
   "metadata": {},
   "source": [
    "#### Provincial\n",
    "-_Los df a nivel provincial cuentan de 864 observaciones. exceptuando 'prov_dis_accesos_todo_vel_bajada' que cuenta con 504 observaciones_\n",
    "\n",
    "-_'prov_dis_accesos_todo_vel_bajada' no se va a utilizar, ya que 'prov_dis_accesos_rango_vel_bajada' contiene datos similares y abarca todos los años_\n",
    "\n",
    "-_Se puede ver que los datos estan agrupados por en 4 trimestres por año y van desde el 2014 al 2018._"
   ]
  },
  {
   "cell_type": "markdown",
   "metadata": {},
   "source": [
    "#### Localidad\n",
    "-_No se van a usar los df que contienen localidades ya que no tienen fechas, horas o trimestres de los que se pueda guiar_\n",
    "-_Tambien vemos que todas las tablas tienen diferencias en la cantidad de datos, por lo que habria discrepancia en las localidades vistas_"
   ]
  },
  {
   "cell_type": "markdown",
   "metadata": {},
   "source": [
    "## Comenzando el análisis"
   ]
  },
  {
   "cell_type": "code",
   "execution_count": null,
   "metadata": {},
   "outputs": [],
   "source": []
  }
 ],
 "metadata": {
  "kernelspec": {
   "display_name": "base",
   "language": "python",
   "name": "python3"
  },
  "language_info": {
   "codemirror_mode": {
    "name": "ipython",
    "version": 3
   },
   "file_extension": ".py",
   "mimetype": "text/x-python",
   "name": "python",
   "nbconvert_exporter": "python",
   "pygments_lexer": "ipython3",
   "version": "3.11.3"
  }
 },
 "nbformat": 4,
 "nbformat_minor": 2
}
