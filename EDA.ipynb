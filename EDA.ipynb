{
 "cells": [
  {
   "cell_type": "markdown",
   "metadata": {},
   "source": [
    "# Importando librerias"
   ]
  },
  {
   "cell_type": "code",
   "execution_count": 1,
   "metadata": {},
   "outputs": [],
   "source": [
    "import pandas as pd\n",
    "import numpy as np"
   ]
  },
  {
   "cell_type": "markdown",
   "metadata": {},
   "source": [
    "#### Warnings"
   ]
  },
  {
   "cell_type": "code",
   "execution_count": 2,
   "metadata": {},
   "outputs": [],
   "source": [
    "import warnings\n",
    "warnings.filterwarnings('ignore')"
   ]
  },
  {
   "cell_type": "code",
   "execution_count": null,
   "metadata": {},
   "outputs": [],
   "source": [
    "#nacional\n",
    "na_accesos_cada_100_hogares_fijo=pd.read_csv('./csv_corregidos/na_accesos_cada_100_hogares_fijo.csv')\n",
    "na_accesos_b_ancha_angosta_fijo= pd.read_csv('./csv_corregidos/na_accesos_b_ancha_angosta_fijo.csv')\n",
    "na_accesos_tipo_tecnologia_fijo= pd.read_csv('./csv_corregidos/na_accesos_tipo_tecnologia_fijo.csv')\n",
    "na_velocidad_media_bajada= pd.read_csv('./csv_corregidos/na_velocidad_media_bajada.csv')\n",
    "na_dis_accesos_rango_vel_bajada= pd.read_csv('./csv_corregidos/na_dis_accesos_rango_vel_bajada.csv')\n",
    "na_ingresos_operadores_fijo= pd.read_csv('./csv_corregidos/na_ingresos_operadores_fijo.csv')\n",
    "#provincial\n",
    "prov_accesos_cada_100_hogares_fijo=pd.read_csv('./csv_corregidos/prov_accesos_cada_100_hogares_fijo.csv')\n",
    "prov_accesos_b_ancha_angosta_fijo = pd.read_csv('./csv_corregidos/prov_accesos_b_ancha_angosta_fijo.csv')\n",
    "prov_accesos_tipo_tecnologia_fijo = pd.read_csv('./csv_corregidos/prov_accesos_tipo_tecnologia_fijo.csv')\n",
    "prov_velocidad_media_bajada = pd.read_csv('./csv_corregidos/prov_velocidad_media_bajada.csv')\n",
    "prov_dis_accesos_rango_vel_bajada = pd.read_csv('./csv_corregidos/prov_dis_accesos_rango_vel_bajada.csv')"
   ]
  }
 ],
 "metadata": {
  "kernelspec": {
   "display_name": "base",
   "language": "python",
   "name": "python3"
  },
  "language_info": {
   "codemirror_mode": {
    "name": "ipython",
    "version": 3
   },
   "file_extension": ".py",
   "mimetype": "text/x-python",
   "name": "python",
   "nbconvert_exporter": "python",
   "pygments_lexer": "ipython3",
   "version": "3.11.3"
  }
 },
 "nbformat": 4,
 "nbformat_minor": 2
}
